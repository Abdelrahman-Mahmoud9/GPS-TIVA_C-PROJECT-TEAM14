{
 "cells": [
  {
   "cell_type": "code",
   "execution_count": 4,
   "metadata": {},
   "outputs": [
    {
     "name": "stdout",
     "output_type": "stream",
     "text": [
      "Requirement already satisfied: gmplot in c:\\users\\egypt\\anaconda3\\lib\\site-packages (1.4.1)\n",
      "Requirement already satisfied: requests in c:\\users\\egypt\\anaconda3\\lib\\site-packages (from gmplot) (2.24.0)\n",
      "Requirement already satisfied: idna<3,>=2.5 in c:\\users\\egypt\\anaconda3\\lib\\site-packages (from requests->gmplot) (2.10)\n",
      "Requirement already satisfied: urllib3!=1.25.0,!=1.25.1,<1.26,>=1.21.1 in c:\\users\\egypt\\anaconda3\\lib\\site-packages (from requests->gmplot) (1.25.11)\n",
      "Requirement already satisfied: chardet<4,>=3.0.2 in c:\\users\\egypt\\anaconda3\\lib\\site-packages (from requests->gmplot) (3.0.4)\n",
      "Requirement already satisfied: certifi>=2017.4.17 in c:\\users\\egypt\\anaconda3\\lib\\site-packages (from requests->gmplot) (2020.6.20)\n",
      "Note: you may need to restart the kernel to use updated packages.\n"
     ]
    }
   ],
   "source": [
    "pip install gmplot\n"
   ]
  },
  {
   "cell_type": "code",
   "execution_count": 10,
   "metadata": {},
   "outputs": [],
   "source": [
    "import gmplot\n",
    "lat=[30.007914,30.007963,30.008003,30.008049,30.008078,30.008163,30.008205,30.00824,30.008314,30.008339,30.008394]\n",
    "lang=[31.164686,31.164812,31.164951,31.165033,31.165152,31.165281,31.165314,31.16539,31.16538,31.165354,31.16534]\n",
    "gmapOne = gmplot.GoogleMapPlotter(30.007914, 31.164686, 19)\n",
    "gmapOne.scatter(lat,lang,\"#ff000\",size=1,marker=False)\n",
    "gmapOne.plot(lat,lang,'blue',edge_width=4)\n",
    "gmapOne.draw(\"map7.html\") "
   ]
  },
  {
   "cell_type": "code",
   "execution_count": null,
   "metadata": {},
   "outputs": [],
   "source": []
  }
 ],
 "metadata": {
  "kernelspec": {
   "display_name": "Python 3",
   "language": "python",
   "name": "python3"
  },
  "language_info": {
   "codemirror_mode": {
    "name": "ipython",
    "version": 3
   },
   "file_extension": ".py",
   "mimetype": "text/x-python",
   "name": "python",
   "nbconvert_exporter": "python",
   "pygments_lexer": "ipython3",
   "version": "3.8.5"
  }
 },
 "nbformat": 4,
 "nbformat_minor": 4
}
